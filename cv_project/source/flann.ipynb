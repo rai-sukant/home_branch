{
 "cells": [
  {
   "cell_type": "code",
   "execution_count": null,
   "metadata": {},
   "outputs": [],
   "source": [
    "# import required libraries\n",
    "import numpy as np\n",
    "import cv2\n",
    "from matplotlib import pyplot as plt\n",
    "\n",
    "# read two input images\n",
    "img1 = cv2.imread('/home/sukant/home_branch/cv_project/source/door_1.jpeg',0)\n",
    "img2 = cv2.imread('/home/sukant/home_branch/cv_project/source/door_2.jpeg',0)\n",
    "\n",
    "orb = cv2.ORB_create()\n",
    " \n",
    "# find the keypoints 2with ORB\n",
    "kp1 = orb.detect(img1,None)\n",
    " \n",
    "# compute the descriptors with ORB\n",
    "kp1, des1 = orb.compute(img1, kp)\n",
    " \n",
    "# find the keypoints with ORB\n",
    "kp2 = orb.detect(img2,None)\n",
    " \n",
    "# compute the descriptors with ORB\n",
    "kp2, des2 = orb.compute(img2, kp)\n",
    "\n",
    "# FLANN parameters\n",
    "FLANN_INDEX_KDTREE = 0\n",
    "index_params = dict(algorithm = FLANN_INDEX_KDTREE, trees = 5)\n",
    "search_params = dict(checks=50) # or pass empty dictionary\n",
    "\n",
    "# apply FLANN based matcher with knn\n",
    "flann = cv2.FlannBasedMatcher(index_params,search_params)\n",
    "matches = flann.knnMatch(des1,des2,k=2)\n",
    "\n",
    "# Need to draw only good matches, so create a mask\n",
    "matchesMask = [[0,0] for i in range(len(matches))]\n",
    "\n",
    "# ratio test as per Lowe's paper\n",
    "for i,(m,n) in enumerate(matches):\n",
    "   if m.distance < 0.1*n.distance:\n",
    "      matchesMask[i]=[1,0]\n",
    "draw_params = dict(matchColor = (0,255,0),singlePointColor = (255,0,0),matchesMask = matchesMask,flags = 0)\n",
    "img3 = cv2.drawMatchesKnn(img1,kp1,img2,kp2,matches,None,**draw_params)\n",
    "plt.imshow(img3),plt.show()"
   ]
  }
 ],
 "metadata": {
  "kernelspec": {
   "display_name": "Python 3",
   "language": "python",
   "name": "python3"
  },
  "language_info": {
   "name": "python",
   "version": "3.8.10"
  }
 },
 "nbformat": 4,
 "nbformat_minor": 2
}
