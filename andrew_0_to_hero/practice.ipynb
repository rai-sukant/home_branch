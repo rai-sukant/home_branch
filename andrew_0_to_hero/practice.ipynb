{
 "cells": [
  {
   "cell_type": "markdown",
   "metadata": {},
   "source": []
  },
  {
   "cell_type": "code",
   "execution_count": null,
   "metadata": {},
   "outputs": [],
   "source": [
    "    "
   ]
  },
  {
   "cell_type": "code",
   "execution_count": null,
   "metadata": {},
   "outputs": [],
   "source": [
    "class dog : \n",
    "\n",
    "    def __init__(self,name,age):\n",
    "        self.name = name\n",
    "        self.age = age \n",
    "    \n",
    "    \n",
    "    def get_name(self):\n",
    "        return self.name \n",
    "    \n",
    "    def get_age(self):\n",
    "        return self.age \n",
    "    \n",
    "    def set_age(self, age):\n",
    "        self.age = age \n",
    "    \n",
    "\n",
    "d = dog(\"Tim\",34)\n",
    "d.set_age(23) \n",
    "print(d.get_age())"
   ]
  },
  {
   "cell_type": "markdown",
   "metadata": {},
   "source": []
  }
 ],
 "metadata": {
  "language_info": {
   "name": "python"
  }
 },
 "nbformat": 4,
 "nbformat_minor": 2
}
